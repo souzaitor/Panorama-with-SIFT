{
 "cells": [
  {
   "cell_type": "markdown",
   "metadata": {},
   "source": [
    "## Sintonia de Parâmetros SIFT"
   ]
  },
  {
   "cell_type": "code",
   "execution_count": null,
   "metadata": {},
   "outputs": [],
   "source": [
    "import pano\n",
    "import cv2\n",
    "import numpy as np\n",
    "import timeit\n",
    "import matplotlib.pyplot as plt\n",
    "import os\n",
    "import sys\n",
    "\n",
    "dir1 = '../Conjunto1'\n",
    "dir2 = '../Conjunto2'\n",
    "dir3 = '../Conjunto3'\n",
    "dir4 = '../Conjunto4'\n",
    "\n",
    "conjunto1 = pano.ler_conjunto_imagens(dir1)\n",
    "conjunto2 = pano.ler_conjunto_imagens(dir2)\n",
    "conjunto3 = pano.ler_conjunto_imagens(dir3)\n",
    "conjunto4 = pano.ler_conjunto_imagens(dir4)"
   ]
  },
  {
   "cell_type": "code",
   "execution_count": null,
   "metadata": {},
   "outputs": [],
   "source": [
    "def sintonizar(imagem1, imagem2, num_features = 0, niveis_oitava = 3, \n",
    "                  threshold_contraste = 0.04, threshold_borda = 10, sigma = 1.6,\n",
    "                  ratio_threshold = 0.5):   \n",
    "\n",
    "    # Calcula keypoints e descritores utilizando SIFT\n",
    "    t_1 = timeit.default_timer()\n",
    "    keypoints_imagem1, descritores_imagem1 = pano.executar_SIFT(imagem1, num_features, niveis_oitava, threshold_contraste, \n",
    "                  threshold_borda, sigma)\n",
    "    \n",
    "    keypoints_imagem2, descritores_imagem2 = pano.executar_SIFT(imagem2, num_features, niveis_oitava, threshold_contraste, \n",
    "                  threshold_borda, sigma)\n",
    "    t_2 = timeit.default_timer()\n",
    "\n",
    "    # Plotar keypoints das duas imagens\n",
    "    plot1 = cv2.drawKeypoints(imagem1, keypoints_imagem1, 0, flags=cv2.DRAW_MATCHES_FLAGS_DRAW_RICH_KEYPOINTS)\n",
    "    plot2 = cv2.drawKeypoints(imagem2, keypoints_imagem2, 0, flags=cv2.DRAW_MATCHES_FLAGS_DRAW_RICH_KEYPOINTS)\n",
    "    plot_img = np.concatenate((plot1, plot2), axis=1)\n",
    "    print(\"Imprimindo keypoints...\")\n",
    "    pano.imprimir_imagem(plot_img)\n",
    "    print(\"Quantidade de keypoints imagem 1:\", len(keypoints_imagem1))\n",
    "    print(\"Quantidade de keypoints imagem 2:\", len(keypoints_imagem2))\n",
    "\n",
    "    # Realiza o casamento entre keypoints das imagens\n",
    "    t_3 = timeit.default_timer()\n",
    "    casamentos = pano.casar_imagens(descritores_imagem1, descritores_imagem2,ratio_threshold=ratio_threshold)\n",
    "    t_4 = timeit.default_timer()\n",
    "\n",
    "    # Plotar casamento das duas imagens\n",
    "    plot_casamentos = cv2.drawMatches(imagem1, keypoints_imagem1, imagem2, keypoints_imagem2, casamentos[:100], None,\n",
    "                                      matchColor=(255, 0, 0),  # draw matches in green color\n",
    "                                      singlePointColor=None, flags=2)\n",
    "    print(\"\\nImprimindo casamentos...\")\n",
    "    pano.imprimir_imagem(plot_casamentos)\n",
    "\n",
    "    tempo = (t_4 - t_3) + (t_2 - t_1)\n",
    "\n",
    "    print(\"Quantidade de casamentos:\", len(casamentos))\n",
    "    print(\"Tempo de exeucação: {:.2f} segundos\\n\".format(tempo))\n",
    "\n",
    "    return len(keypoints_imagem1), len(keypoints_imagem2), len(casamentos), tempo"
   ]
  },
  {
   "cell_type": "markdown",
   "metadata": {},
   "source": [
    "## Sigma"
   ]
  },
  {
   "cell_type": "code",
   "execution_count": null,
   "metadata": {},
   "outputs": [],
   "source": [
    "sigmas = np.linspace(0.8, 24, 10)\n",
    "sigmas = np.round(sigmas, 2)\n",
    "kp1 = []\n",
    "kp2 = []\n",
    "m = []\n",
    "temp = []\n",
    "\n",
    "for sigma in sigmas:\n",
    "  print(\"Sintonizando com sigma =\", sigma)\n",
    "  a,b,c,d = sintonizar(conjunto1[1], conjunto1[2], sigma = sigma)\n",
    "  kp1.append(a)\n",
    "  kp2.append(b)\n",
    "  m.append(c)\n",
    "  temp.append(d)"
   ]
  },
  {
   "cell_type": "code",
   "execution_count": null,
   "metadata": {},
   "outputs": [],
   "source": [
    "fig, axs = plt.subplots(2, 2, figsize=(15, 15))\n",
    "axs[0, 0].plot(sigmas, kp1,  '-o', color='g')\n",
    "axs[0, 0].set_ylabel(\"Quantidade de keypoints imagem 1\")\n",
    "axs[1, 1].set_xlabel(\"Sigma\")\n",
    "axs[0, 1].plot(sigmas, kp2,  '-o', color='b')\n",
    "axs[0, 1].set_ylabel(\"Quantidade de keypoints imagem 2\")\n",
    "axs[1, 1].set_xlabel(\"Sigma\")\n",
    "axs[1, 0].plot(sigmas, temp, '-o', color='orange')\n",
    "axs[1, 0].set_ylabel(\"Tempo de execução\")\n",
    "axs[1, 1].set_xlabel(\"Sigma\")\n",
    "axs[1, 1].plot(sigmas, m,    '-o', color='r')\n",
    "axs[1, 1].set_ylabel(\"Quantidade de casamentos\")\n",
    "axs[1, 1].set_xlabel(\"Sigma\")\n",
    "plt.show()"
   ]
  },
  {
   "cell_type": "markdown",
   "metadata": {},
   "source": [
    "## Níveis de Oitava"
   ]
  },
  {
   "cell_type": "code",
   "execution_count": null,
   "metadata": {},
   "outputs": [],
   "source": [
    "niveis = np.linspace(1, 10, 10, dtype=int)\n",
    "kp1 = []\n",
    "kp2 = []\n",
    "m = []\n",
    "temp = []\n",
    "\n",
    "for nivel in niveis:\n",
    "  print(\"Sintonizando com níveis de oitava =\", nivel)\n",
    "  a,b,c,d = sintonizar(conjunto1[1], conjunto1[2], niveis_oitava = nivel)\n",
    "  kp1.append(a)\n",
    "  kp2.append(b)\n",
    "  m.append(c)\n",
    "  temp.append(d)"
   ]
  },
  {
   "cell_type": "code",
   "execution_count": null,
   "metadata": {},
   "outputs": [],
   "source": [
    "fig, axs = plt.subplots(2, 2, figsize=(15, 15))\n",
    "axs[0, 0].plot(niveis, kp1,  '-o', color='g')\n",
    "axs[0, 0].set_ylabel(\"Quantidade de keypoints imagem 1\")\n",
    "axs[1, 1].set_xlabel(\"Quantidade de níveis\")\n",
    "axs[0, 1].plot(niveis, kp2,  '-o', color='b')\n",
    "axs[0, 1].set_ylabel(\"Quantidade de keypoints imagem 2\")\n",
    "axs[1, 1].set_xlabel(\"Quantidade de níveis\")\n",
    "axs[1, 0].plot(niveis, temp, '-o', color='orange')\n",
    "axs[1, 0].set_ylabel(\"Tempo de execução\")\n",
    "axs[1, 1].set_xlabel(\"Quantidade de níveis\")\n",
    "axs[1, 1].plot(niveis, m,    '-o', color='r')\n",
    "axs[1, 1].set_ylabel(\"Quantidade de casamentos\")\n",
    "axs[1, 1].set_xlabel(\"Quantidade de níveis\")\n",
    "plt.show()"
   ]
  },
  {
   "cell_type": "markdown",
   "metadata": {},
   "source": [
    "## Threshold de Contraste"
   ]
  },
  {
   "cell_type": "code",
   "execution_count": null,
   "metadata": {},
   "outputs": [],
   "source": [
    "contrastes = np.linspace(0.01, 0.2, 10)\n",
    "contrastes = np.round(contrastes, 2)\n",
    "kp1 = []\n",
    "kp2 = []\n",
    "m = []\n",
    "temp = []\n",
    "\n",
    "for contraste in contrastes:\n",
    "  print(\"Sintonizando com threshold de contraste =\", contraste)\n",
    "  a,b,c,d = sintonizar(conjunto1[1], conjunto1[2], threshold_contraste = contraste)\n",
    "  kp1.append(a)\n",
    "  kp2.append(b)\n",
    "  m.append(c)\n",
    "  temp.append(d)"
   ]
  },
  {
   "cell_type": "code",
   "execution_count": null,
   "metadata": {},
   "outputs": [],
   "source": [
    "fig, axs = plt.subplots(2, 2, figsize=(15, 15))\n",
    "axs[0, 0].plot(contrastes, kp1,  '-o', color='g', label='Blue stars')\n",
    "axs[0, 0].set_ylabel(\"Quantidade de keypoints imagem 1\")\n",
    "axs[1, 1].set_xlabel(\"Threshold de contraste\")\n",
    "axs[0, 1].plot(contrastes, kp2,  '-o', color='b')\n",
    "axs[0, 1].set_ylabel(\"Quantidade de keypoints imagem 2\")\n",
    "axs[1, 1].set_xlabel(\"Threshold de contraste\")\n",
    "axs[1, 0].plot(contrastes, temp, '-o', color='orange')\n",
    "axs[1, 0].set_ylabel(\"Tempo de execução\")\n",
    "axs[1, 1].set_xlabel(\"Threshold de contraste\")\n",
    "axs[1, 1].plot(contrastes, m,    '-o', color='r')\n",
    "axs[1, 1].set_ylabel(\"Quantidade de casamentos\")\n",
    "axs[1, 1].set_xlabel(\"Threshold de contraste\")\n",
    "plt.show()"
   ]
  },
  {
   "cell_type": "markdown",
   "metadata": {},
   "source": [
    "## Threshold de Borda"
   ]
  },
  {
   "cell_type": "code",
   "execution_count": null,
   "metadata": {},
   "outputs": [],
   "source": [
    "bordas = np.linspace(1, 20, 10)\n",
    "bordas = np.round(bordas, 2)\n",
    "kp1 = []\n",
    "kp2 = []\n",
    "m = []\n",
    "temp = []\n",
    "\n",
    "for borda in bordas:\n",
    "  print(\"Sintonizando com threshold de borda =\", borda)\n",
    "  a,b,c,d = sintonizar(conjunto1[1], conjunto1[2], threshold_borda = borda)\n",
    "  kp1.append(a)\n",
    "  kp2.append(b)\n",
    "  m.append(c)\n",
    "  temp.append(d)"
   ]
  },
  {
   "cell_type": "code",
   "execution_count": null,
   "metadata": {},
   "outputs": [],
   "source": [
    "fig, axs = plt.subplots(2, 2, figsize=(15, 15))\n",
    "axs[0, 0].plot(bordas, kp1,  '-o', color='g')\n",
    "axs[0, 0].set_ylabel(\"Quantidade de keypoints imagem 1\")\n",
    "axs[0, 0].set_xlabel(\"Threshold de borda\")\n",
    "axs[0, 1].plot(bordas, kp2,  '-o', color='b')\n",
    "axs[0, 1].set_ylabel(\"Quantidade de keypoints imagem 2\")\n",
    "axs[0, 1].set_xlabel(\"Threshold de borda\")\n",
    "axs[1, 0].plot(bordas, temp, '-o', color='orange')\n",
    "axs[1, 0].set_ylabel(\"Tempo de execução\")\n",
    "axs[1, 0].set_xlabel(\"Threshold de borda\")\n",
    "axs[1, 1].plot(bordas, m,    '-o', color='r')\n",
    "axs[1, 1].set_ylabel(\"Quantidade de casamentos\")\n",
    "axs[1, 1].set_xlabel(\"Threshold de borda\")\n",
    "plt.show()"
   ]
  },
  {
   "cell_type": "markdown",
   "metadata": {},
   "source": [
    "## Número de Features"
   ]
  },
  {
   "cell_type": "code",
   "execution_count": null,
   "metadata": {},
   "outputs": [],
   "source": [
    "feats = [10,20,30,40,50,60,70,80,90,100]\n",
    "kp1 = []\n",
    "kp2 = []\n",
    "m = []\n",
    "temp = []\n",
    "\n",
    "for feat in feats:\n",
    "  print(\"Sintonizando com número de features =\", feat)\n",
    "  a,b,c,d = sintonizar(conjunto1[1], conjunto1[2], num_features = feat, niveis_oitava = 3, \n",
    "                  threshold_contraste = 0.04, threshold_borda = 10, sigma = 1.6,\n",
    "                  ratio_threshold = 1)\n",
    "  kp1.append(a)\n",
    "  kp2.append(b)\n",
    "  m.append(c)\n",
    "  temp.append(d)"
   ]
  },
  {
   "cell_type": "code",
   "execution_count": null,
   "metadata": {},
   "outputs": [],
   "source": [
    "fig, axs = plt.subplots(2, 2, figsize=(15, 15))\n",
    "axs[0, 0].plot(feats, kp1,  '-o', color='g')\n",
    "axs[0, 0].set_ylabel(\"Quantidade de keypoints imagem 1\")\n",
    "axs[0, 0].set_xlabel(\"Número de features\")\n",
    "axs[0, 1].plot(feats, kp2,  '-o', color='b')\n",
    "axs[0, 1].set_ylabel(\"Quantidade de keypoints imagem 2\")\n",
    "axs[0, 1].set_xlabel(\"Número de features\")\n",
    "axs[1, 0].plot(feats, temp, '-o', color='orange')\n",
    "axs[1, 0].set_ylabel(\"Tempo de execução\")\n",
    "axs[1, 0].set_xlabel(\"Número de features\")\n",
    "axs[1, 1].plot(feats, m,    '-o', color='r')\n",
    "axs[1, 1].set_ylabel(\"Quantidade de casamentos\")\n",
    "axs[1, 1].set_xlabel(\"Número de features\")\n",
    "plt.show()"
   ]
  },
  {
   "cell_type": "markdown",
   "metadata": {},
   "source": [
    "## Ratio Threshold"
   ]
  },
  {
   "cell_type": "code",
   "execution_count": null,
   "metadata": {},
   "outputs": [],
   "source": [
    "ratios = np.linspace(0.0, 1.0, 10)\n",
    "ratios = np.round(ratios, 2)\n",
    "kp1 = []\n",
    "kp2 = []\n",
    "m = []\n",
    "temp = []\n",
    "\n",
    "for ratio in ratios:\n",
    "  print(\"Sintonizando com ratio threshold =\", ratio)\n",
    "  a,b,c,d = sintonizar(conjunto1[1], conjunto1[2], ratio_threshold = ratio)\n",
    "  kp1.append(a)\n",
    "  kp2.append(b)\n",
    "  m.append(c)\n",
    "  temp.append(d)"
   ]
  },
  {
   "cell_type": "code",
   "execution_count": null,
   "metadata": {},
   "outputs": [],
   "source": [
    "fig, axs = plt.subplots(2, 2, figsize=(15, 15))\n",
    "axs[0, 0].plot(ratios, kp1,  '-o', color='g')\n",
    "axs[0, 0].set_ylabel(\"Quantidade de keypoints imagem 1\")\n",
    "axs[0, 0].set_xlabel(\"Ratio Threshold\")\n",
    "axs[0, 1].plot(ratios, kp2,  '-o', color='b')\n",
    "axs[0, 1].set_ylabel(\"Quantidade de keypoints imagem 2\")\n",
    "axs[0, 1].set_xlabel(\"Ratio\")\n",
    "axs[1, 0].plot(ratios, temp, '-o', color='orange')\n",
    "axs[1, 0].set_ylabel(\"Tempo de execução\")\n",
    "axs[1, 0].set_xlabel(\"Ratio\")\n",
    "axs[1, 1].plot(ratios, m,    '-o', color='r')\n",
    "axs[1, 1].set_ylabel(\"Quantidade de casamentos\")\n",
    "axs[1, 1].set_xlabel(\"Ratio\")\n",
    "plt.show()"
   ]
  },
  {
   "cell_type": "code",
   "execution_count": null,
   "metadata": {},
   "outputs": [],
   "source": []
  }
 ],
 "metadata": {
  "kernelspec": {
   "display_name": "Python 3 (ipykernel)",
   "language": "python",
   "name": "python3"
  },
  "language_info": {
   "codemirror_mode": {
    "name": "ipython",
    "version": 3
   },
   "file_extension": ".py",
   "mimetype": "text/x-python",
   "name": "python",
   "nbconvert_exporter": "python",
   "pygments_lexer": "ipython3",
   "version": "3.9.6"
  },
  "vscode": {
   "interpreter": {
    "hash": "e7d1cce3a4cab061af53c8a2de9c9e94e0350145102b3ba125af700e4fd29631"
   }
  }
 },
 "nbformat": 4,
 "nbformat_minor": 2
}
